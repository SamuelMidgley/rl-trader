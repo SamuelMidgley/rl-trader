{
 "cells": [
  {
   "cell_type": "markdown",
   "id": "c8d16eff",
   "metadata": {},
   "source": [
    "# Reinforcement Learning Trading Bot\n",
    "An attempt at a reinforcement learning training bot. This is a work in progress, will update with more information and more complex models to try and improve it. (follow along from Nicholas Renotte ([link](https://www.youtube.com/channel/UCHXa4OpASJEwrHrLeIzw7Yg) to channel)).\n",
    "\n",
    "\n",
    "## Import Dependencies"
   ]
  },
  {
   "cell_type": "code",
   "execution_count": 1,
   "id": "603e2f87",
   "metadata": {},
   "outputs": [
    {
     "name": "stderr",
     "output_type": "stream",
     "text": [
      "C:\\Users\\midgl\\anaconda3\\envs\\rltrader\\lib\\site-packages\\ale_py\\roms\\utils.py:90: DeprecationWarning: SelectableGroups dict interface is deprecated. Use select.\n",
      "  for external in metadata.entry_points().get(self.group, []):\n"
     ]
    },
    {
     "name": "stdout",
     "output_type": "stream",
     "text": [
      "WARNING:tensorflow:\n",
      "The TensorFlow contrib module will not be included in TensorFlow 2.0.\n",
      "For more information, please see:\n",
      "  * https://github.com/tensorflow/community/blob/master/rfcs/20180907-contrib-sunset.md\n",
      "  * https://github.com/tensorflow/addons\n",
      "  * https://github.com/tensorflow/io (for I/O related ops)\n",
      "If you depend on functionality not listed there, please file an issue.\n",
      "\n"
     ]
    },
    {
     "name": "stderr",
     "output_type": "stream",
     "text": [
      "C:\\Users\\midgl\\anaconda3\\envs\\rltrader\\lib\\site-packages\\stable_baselines\\__init__.py:33: UserWarning: stable-baselines is in maintenance mode, please use [Stable-Baselines3 (SB3)](https://github.com/DLR-RM/stable-baselines3) for an up-to-date version. You can find a [migration guide](https://stable-baselines3.readthedocs.io/en/master/guide/migration.html) in SB3 documentation.\n",
      "  \"stable-baselines is in maintenance mode, please use [Stable-Baselines3 (SB3)](https://github.com/DLR-RM/stable-baselines3) for an up-to-date version. You can find a [migration guide](https://stable-baselines3.readthedocs.io/en/master/guide/migration.html) in SB3 documentation.\"\n"
     ]
    }
   ],
   "source": [
    "import numpy as np\n",
    "import pandas as pd\n",
    "import matplotlib.pyplot as plt\n",
    "\n",
    "# gym libraries\n",
    "import gym\n",
    "import gym_anytrading\n",
    "\n",
    "# stable Baselines \n",
    "from stable_baselines.common.vec_env import DummyVecEnv\n",
    "from stable_baselines import A2C"
   ]
  },
  {
   "cell_type": "markdown",
   "id": "b21c686c",
   "metadata": {},
   "source": [
    "## Load in Data\n",
    "The data used for this notebook is for Amazon.com, Inc (AMZN) and it covers the time period 11/17/2020 - 11/17/2021 and was obtained from Market Watch ([link](https://www.marketwatch.com/investing/stock/amzn/download-data?startDate=11/18/2020&endDate=11/17/2021)).\n",
    "\n",
    "We begin by loading in the data and prepping it."
   ]
  },
  {
   "cell_type": "code",
   "execution_count": 2,
   "id": "79c960e0",
   "metadata": {},
   "outputs": [],
   "source": [
    "df = pd.read_csv(\"data/amazondata.csv\")"
   ]
  },
  {
   "cell_type": "code",
   "execution_count": 3,
   "id": "79b0f7d2",
   "metadata": {},
   "outputs": [
    {
     "data": {
      "text/html": [
       "<div>\n",
       "<style scoped>\n",
       "    .dataframe tbody tr th:only-of-type {\n",
       "        vertical-align: middle;\n",
       "    }\n",
       "\n",
       "    .dataframe tbody tr th {\n",
       "        vertical-align: top;\n",
       "    }\n",
       "\n",
       "    .dataframe thead th {\n",
       "        text-align: right;\n",
       "    }\n",
       "</style>\n",
       "<table border=\"1\" class=\"dataframe\">\n",
       "  <thead>\n",
       "    <tr style=\"text-align: right;\">\n",
       "      <th></th>\n",
       "      <th>Date</th>\n",
       "      <th>Open</th>\n",
       "      <th>High</th>\n",
       "      <th>Low</th>\n",
       "      <th>Close</th>\n",
       "      <th>Volume</th>\n",
       "    </tr>\n",
       "  </thead>\n",
       "  <tbody>\n",
       "    <tr>\n",
       "      <th>0</th>\n",
       "      <td>11/17/2021</td>\n",
       "      <td>3,564.72</td>\n",
       "      <td>3,587.25</td>\n",
       "      <td>3,545.35</td>\n",
       "      <td>3,549.00</td>\n",
       "      <td>2,544,060</td>\n",
       "    </tr>\n",
       "    <tr>\n",
       "      <th>1</th>\n",
       "      <td>11/16/2021</td>\n",
       "      <td>3,539.00</td>\n",
       "      <td>3,576.50</td>\n",
       "      <td>3,525.15</td>\n",
       "      <td>3,540.70</td>\n",
       "      <td>2,217,071</td>\n",
       "    </tr>\n",
       "    <tr>\n",
       "      <th>2</th>\n",
       "      <td>11/15/2021</td>\n",
       "      <td>3,537.00</td>\n",
       "      <td>3,593.88</td>\n",
       "      <td>3,525.81</td>\n",
       "      <td>3,545.68</td>\n",
       "      <td>2,929,719</td>\n",
       "    </tr>\n",
       "    <tr>\n",
       "      <th>3</th>\n",
       "      <td>11/12/2021</td>\n",
       "      <td>3,485.00</td>\n",
       "      <td>3,540.73</td>\n",
       "      <td>3,447.05</td>\n",
       "      <td>3,525.15</td>\n",
       "      <td>2,689,434</td>\n",
       "    </tr>\n",
       "    <tr>\n",
       "      <th>4</th>\n",
       "      <td>11/11/2021</td>\n",
       "      <td>3,513.00</td>\n",
       "      <td>3,543.24</td>\n",
       "      <td>3,467.47</td>\n",
       "      <td>3,472.50</td>\n",
       "      <td>2,264,406</td>\n",
       "    </tr>\n",
       "  </tbody>\n",
       "</table>\n",
       "</div>"
      ],
      "text/plain": [
       "         Date      Open      High       Low     Close     Volume\n",
       "0  11/17/2021  3,564.72  3,587.25  3,545.35  3,549.00  2,544,060\n",
       "1  11/16/2021  3,539.00  3,576.50  3,525.15  3,540.70  2,217,071\n",
       "2  11/15/2021  3,537.00  3,593.88  3,525.81  3,545.68  2,929,719\n",
       "3  11/12/2021  3,485.00  3,540.73  3,447.05  3,525.15  2,689,434\n",
       "4  11/11/2021  3,513.00  3,543.24  3,467.47  3,472.50  2,264,406"
      ]
     },
     "execution_count": 3,
     "metadata": {},
     "output_type": "execute_result"
    }
   ],
   "source": [
    "df.head()"
   ]
  },
  {
   "cell_type": "code",
   "execution_count": 4,
   "id": "39775dbe",
   "metadata": {},
   "outputs": [
    {
     "data": {
      "text/plain": [
       "Date      object\n",
       "Open      object\n",
       "High      object\n",
       "Low       object\n",
       "Close     object\n",
       "Volume    object\n",
       "dtype: object"
      ]
     },
     "execution_count": 4,
     "metadata": {},
     "output_type": "execute_result"
    }
   ],
   "source": [
    "df.dtypes"
   ]
  },
  {
   "cell_type": "markdown",
   "id": "0d310cc2",
   "metadata": {},
   "source": [
    "From the brief look at the data there are a few things that need to be addressed before continuing, and these are:\n",
    "- For stable baselines to work the `Date` column needs to be in datetime format\n",
    "- All other columns are objects, this is because each number contains a comma so this needs to be removed before converting to float for the RL model\n",
    "- The `Date` column is also sorted with the most recent entry appearing first so this needs to be reversed\n",
    "\n",
    "We begin by removing all commas and converting the `Date` column into the correct form"
   ]
  },
  {
   "cell_type": "code",
   "execution_count": 5,
   "id": "fc1bbee0",
   "metadata": {},
   "outputs": [],
   "source": [
    "# remove commas\n",
    "df = df.replace(',','', regex=True)"
   ]
  },
  {
   "cell_type": "code",
   "execution_count": 6,
   "id": "b4966f38",
   "metadata": {},
   "outputs": [],
   "source": [
    "# convert all columns except Date into float\n",
    "cols = list(df.columns)\n",
    "cols.remove('Date')\n",
    "df[cols] = df[cols].apply(pd.to_numeric, errors='coerce', axis=1)\n",
    "\n",
    "# convert Date column into datetime\n",
    "df['Date'] = pd.to_datetime(df['Date'])"
   ]
  },
  {
   "cell_type": "code",
   "execution_count": 7,
   "id": "a1f5ac09",
   "metadata": {},
   "outputs": [
    {
     "data": {
      "text/plain": [
       "Date      datetime64[ns]\n",
       "Open             float64\n",
       "High             float64\n",
       "Low              float64\n",
       "Close            float64\n",
       "Volume           float64\n",
       "dtype: object"
      ]
     },
     "execution_count": 7,
     "metadata": {},
     "output_type": "execute_result"
    }
   ],
   "source": [
    "df.dtypes"
   ]
  },
  {
   "cell_type": "markdown",
   "id": "045980f3",
   "metadata": {},
   "source": [
    "With this correctly done we correctly done we sort the date column"
   ]
  },
  {
   "cell_type": "code",
   "execution_count": 8,
   "id": "ccbd5c82",
   "metadata": {},
   "outputs": [
    {
     "data": {
      "text/html": [
       "<div>\n",
       "<style scoped>\n",
       "    .dataframe tbody tr th:only-of-type {\n",
       "        vertical-align: middle;\n",
       "    }\n",
       "\n",
       "    .dataframe tbody tr th {\n",
       "        vertical-align: top;\n",
       "    }\n",
       "\n",
       "    .dataframe thead th {\n",
       "        text-align: right;\n",
       "    }\n",
       "</style>\n",
       "<table border=\"1\" class=\"dataframe\">\n",
       "  <thead>\n",
       "    <tr style=\"text-align: right;\">\n",
       "      <th></th>\n",
       "      <th>Date</th>\n",
       "      <th>Open</th>\n",
       "      <th>High</th>\n",
       "      <th>Low</th>\n",
       "      <th>Close</th>\n",
       "      <th>Volume</th>\n",
       "    </tr>\n",
       "  </thead>\n",
       "  <tbody>\n",
       "    <tr>\n",
       "      <th>252</th>\n",
       "      <td>2020-11-17</td>\n",
       "      <td>3183.55</td>\n",
       "      <td>3189.25</td>\n",
       "      <td>3135.26</td>\n",
       "      <td>3135.66</td>\n",
       "      <td>3444735.0</td>\n",
       "    </tr>\n",
       "    <tr>\n",
       "      <th>251</th>\n",
       "      <td>2020-11-18</td>\n",
       "      <td>3134.00</td>\n",
       "      <td>3140.00</td>\n",
       "      <td>3105.10</td>\n",
       "      <td>3105.46</td>\n",
       "      <td>2916836.0</td>\n",
       "    </tr>\n",
       "    <tr>\n",
       "      <th>250</th>\n",
       "      <td>2020-11-19</td>\n",
       "      <td>3105.31</td>\n",
       "      <td>3125.00</td>\n",
       "      <td>3080.92</td>\n",
       "      <td>3117.02</td>\n",
       "      <td>3010270.0</td>\n",
       "    </tr>\n",
       "    <tr>\n",
       "      <th>249</th>\n",
       "      <td>2020-11-20</td>\n",
       "      <td>3117.02</td>\n",
       "      <td>3132.89</td>\n",
       "      <td>3098.05</td>\n",
       "      <td>3099.40</td>\n",
       "      <td>3380138.0</td>\n",
       "    </tr>\n",
       "    <tr>\n",
       "      <th>248</th>\n",
       "      <td>2020-11-23</td>\n",
       "      <td>3116.70</td>\n",
       "      <td>3139.75</td>\n",
       "      <td>3065.46</td>\n",
       "      <td>3098.39</td>\n",
       "      <td>4708887.0</td>\n",
       "    </tr>\n",
       "  </tbody>\n",
       "</table>\n",
       "</div>"
      ],
      "text/plain": [
       "          Date     Open     High      Low    Close     Volume\n",
       "252 2020-11-17  3183.55  3189.25  3135.26  3135.66  3444735.0\n",
       "251 2020-11-18  3134.00  3140.00  3105.10  3105.46  2916836.0\n",
       "250 2020-11-19  3105.31  3125.00  3080.92  3117.02  3010270.0\n",
       "249 2020-11-20  3117.02  3132.89  3098.05  3099.40  3380138.0\n",
       "248 2020-11-23  3116.70  3139.75  3065.46  3098.39  4708887.0"
      ]
     },
     "execution_count": 8,
     "metadata": {},
     "output_type": "execute_result"
    }
   ],
   "source": [
    "df.sort_values('Date', ascending=True, inplace=True)\n",
    "df.head()"
   ]
  },
  {
   "cell_type": "markdown",
   "id": "91e0bea5",
   "metadata": {},
   "source": [
    "Now all columns are in the correct format and the `Date` columns order has been reversed. Additionally stable baselines requires the `Date` column to be set as the index so lets do that."
   ]
  },
  {
   "cell_type": "code",
   "execution_count": 9,
   "id": "3181ee5b",
   "metadata": {},
   "outputs": [],
   "source": [
    "df.set_index('Date', inplace=True)"
   ]
  },
  {
   "cell_type": "code",
   "execution_count": 10,
   "id": "48cfaa92",
   "metadata": {},
   "outputs": [
    {
     "data": {
      "text/html": [
       "<div>\n",
       "<style scoped>\n",
       "    .dataframe tbody tr th:only-of-type {\n",
       "        vertical-align: middle;\n",
       "    }\n",
       "\n",
       "    .dataframe tbody tr th {\n",
       "        vertical-align: top;\n",
       "    }\n",
       "\n",
       "    .dataframe thead th {\n",
       "        text-align: right;\n",
       "    }\n",
       "</style>\n",
       "<table border=\"1\" class=\"dataframe\">\n",
       "  <thead>\n",
       "    <tr style=\"text-align: right;\">\n",
       "      <th></th>\n",
       "      <th>Open</th>\n",
       "      <th>High</th>\n",
       "      <th>Low</th>\n",
       "      <th>Close</th>\n",
       "      <th>Volume</th>\n",
       "    </tr>\n",
       "    <tr>\n",
       "      <th>Date</th>\n",
       "      <th></th>\n",
       "      <th></th>\n",
       "      <th></th>\n",
       "      <th></th>\n",
       "      <th></th>\n",
       "    </tr>\n",
       "  </thead>\n",
       "  <tbody>\n",
       "    <tr>\n",
       "      <th>2020-11-17</th>\n",
       "      <td>3183.55</td>\n",
       "      <td>3189.25</td>\n",
       "      <td>3135.26</td>\n",
       "      <td>3135.66</td>\n",
       "      <td>3444735.0</td>\n",
       "    </tr>\n",
       "    <tr>\n",
       "      <th>2020-11-18</th>\n",
       "      <td>3134.00</td>\n",
       "      <td>3140.00</td>\n",
       "      <td>3105.10</td>\n",
       "      <td>3105.46</td>\n",
       "      <td>2916836.0</td>\n",
       "    </tr>\n",
       "    <tr>\n",
       "      <th>2020-11-19</th>\n",
       "      <td>3105.31</td>\n",
       "      <td>3125.00</td>\n",
       "      <td>3080.92</td>\n",
       "      <td>3117.02</td>\n",
       "      <td>3010270.0</td>\n",
       "    </tr>\n",
       "    <tr>\n",
       "      <th>2020-11-20</th>\n",
       "      <td>3117.02</td>\n",
       "      <td>3132.89</td>\n",
       "      <td>3098.05</td>\n",
       "      <td>3099.40</td>\n",
       "      <td>3380138.0</td>\n",
       "    </tr>\n",
       "    <tr>\n",
       "      <th>2020-11-23</th>\n",
       "      <td>3116.70</td>\n",
       "      <td>3139.75</td>\n",
       "      <td>3065.46</td>\n",
       "      <td>3098.39</td>\n",
       "      <td>4708887.0</td>\n",
       "    </tr>\n",
       "  </tbody>\n",
       "</table>\n",
       "</div>"
      ],
      "text/plain": [
       "               Open     High      Low    Close     Volume\n",
       "Date                                                     \n",
       "2020-11-17  3183.55  3189.25  3135.26  3135.66  3444735.0\n",
       "2020-11-18  3134.00  3140.00  3105.10  3105.46  2916836.0\n",
       "2020-11-19  3105.31  3125.00  3080.92  3117.02  3010270.0\n",
       "2020-11-20  3117.02  3132.89  3098.05  3099.40  3380138.0\n",
       "2020-11-23  3116.70  3139.75  3065.46  3098.39  4708887.0"
      ]
     },
     "execution_count": 10,
     "metadata": {},
     "output_type": "execute_result"
    }
   ],
   "source": [
    "df.head()"
   ]
  },
  {
   "cell_type": "markdown",
   "id": "08a39b1c",
   "metadata": {},
   "source": [
    "Now the data is ready to be implemented into the gym environment.\n",
    "\n",
    "## Loading the data into the gym environment"
   ]
  },
  {
   "cell_type": "code",
   "execution_count": 11,
   "id": "4c712dc7",
   "metadata": {},
   "outputs": [],
   "source": [
    "env = gym.make('stocks-v0', df=df, frame_bound=(5,200), window_size=5)"
   ]
  },
  {
   "cell_type": "markdown",
   "id": "979c4a58",
   "metadata": {},
   "source": [
    "To check to see if the environment has loaded correctly we will see how a trading bot would perform if it were to randomly put in Buy or Sell orders."
   ]
  },
  {
   "cell_type": "code",
   "execution_count": 12,
   "id": "a41b0d84",
   "metadata": {},
   "outputs": [
    {
     "name": "stdout",
     "output_type": "stream",
     "text": [
      "info {'total_reward': 26.13000000000102, 'total_profit': 0.4577800701671097, 'position': 1}\n"
     ]
    },
    {
     "data": {
      "image/png": "[encoded data removed]",
      "text/plain": [
       "<Figure size 1080x432 with 1 Axes>"
      ]
     },
     "metadata": {
      "needs_background": "light"
     },
     "output_type": "display_data"
    }
   ],
   "source": [
    "state = env.reset()\n",
    "while True:\n",
    "    action = env.action_space.sample()\n",
    "    n_state, reward, done, info = env.step(action)\n",
    "    if done:\n",
    "        print(\"info\", info)\n",
    "        break\n",
    "        \n",
    "plt.figure(figsize=(15,6))\n",
    "plt.cla()\n",
    "env.render_all()\n",
    "plt.show()"
   ]
  },
  {
   "cell_type": "markdown",
   "id": "9c251964",
   "metadata": {},
   "source": [
    "Unsuprisingly a random trading bot is not effective and would have lost us over half of our original investment over 150 days. Let us see if we can improve this by using reinforcement learning.\n",
    "\n",
    "## Creating and training RL model\n",
    "Now lets see if we can create a model that performs better than the random trading bot using just reinforcement learning. First we create the environment and set the range we want the model to train over. For this I have started it from day 50 and it will train for 100 days until day 150."
   ]
  },
  {
   "cell_type": "code",
   "execution_count": 13,
   "id": "0a578340",
   "metadata": {},
   "outputs": [],
   "source": [
    "env_maker = lambda: gym.make('stocks-v0', df=df, frame_bound=(50,150), window_size=5)\n",
    "env = DummyVecEnv([env_maker])"
   ]
  },
  {
   "cell_type": "markdown",
   "id": "67cc0510",
   "metadata": {},
   "source": [
    "The model we are using is A2C which is an actor critic method that uses multiple workers to avoid the use of a replay buffer ([Link to original paper](https://arxiv.org/abs/1602.01783)). "
   ]
  },
  {
   "cell_type": "code",
   "execution_count": 14,
   "id": "4eaeb0de",
   "metadata": {},
   "outputs": [
    {
     "name": "stdout",
     "output_type": "stream",
     "text": [
      "WARNING:tensorflow:From C:\\Users\\midgl\\anaconda3\\envs\\rltrader\\lib\\site-packages\\stable_baselines\\common\\tf_util.py:191: The name tf.ConfigProto is deprecated. Please use tf.compat.v1.ConfigProto instead.\n",
      "\n",
      "WARNING:tensorflow:From C:\\Users\\midgl\\anaconda3\\envs\\rltrader\\lib\\site-packages\\stable_baselines\\common\\tf_util.py:200: The name tf.Session is deprecated. Please use tf.compat.v1.Session instead.\n",
      "\n",
      "WARNING:tensorflow:From C:\\Users\\midgl\\anaconda3\\envs\\rltrader\\lib\\site-packages\\stable_baselines\\common\\policies.py:116: The name tf.variable_scope is deprecated. Please use tf.compat.v1.variable_scope instead.\n",
      "\n",
      "WARNING:tensorflow:From C:\\Users\\midgl\\anaconda3\\envs\\rltrader\\lib\\site-packages\\stable_baselines\\common\\input.py:25: The name tf.placeholder is deprecated. Please use tf.compat.v1.placeholder instead.\n",
      "\n",
      "WARNING:tensorflow:From C:\\Users\\midgl\\anaconda3\\envs\\rltrader\\lib\\site-packages\\stable_baselines\\common\\policies.py:420: flatten (from tensorflow.python.layers.core) is deprecated and will be removed in a future version.\n",
      "Instructions for updating:\n",
      "Use keras.layers.flatten instead.\n",
      "WARNING:tensorflow:From C:\\Users\\midgl\\anaconda3\\envs\\rltrader\\lib\\site-packages\\tensorflow_core\\python\\layers\\core.py:332: Layer.apply (from tensorflow.python.keras.engine.base_layer) is deprecated and will be removed in a future version.\n",
      "Instructions for updating:\n",
      "Please use `layer.__call__` method instead.\n",
      "WARNING:tensorflow:From C:\\Users\\midgl\\anaconda3\\envs\\rltrader\\lib\\site-packages\\stable_baselines\\common\\tf_layers.py:123: The name tf.get_variable is deprecated. Please use tf.compat.v1.get_variable instead.\n",
      "\n",
      "WARNING:tensorflow:From C:\\Users\\midgl\\anaconda3\\envs\\rltrader\\lib\\site-packages\\stable_baselines\\common\\distributions.py:326: The name tf.random_uniform is deprecated. Please use tf.random.uniform instead.\n",
      "\n",
      "WARNING:tensorflow:From C:\\Users\\midgl\\anaconda3\\envs\\rltrader\\lib\\site-packages\\stable_baselines\\common\\distributions.py:327: The name tf.log is deprecated. Please use tf.math.log instead.\n",
      "\n",
      "WARNING:tensorflow:From C:\\Users\\midgl\\anaconda3\\envs\\rltrader\\lib\\site-packages\\stable_baselines\\a2c\\a2c.py:160: The name tf.summary.scalar is deprecated. Please use tf.compat.v1.summary.scalar instead.\n",
      "\n",
      "WARNING:tensorflow:From C:\\Users\\midgl\\anaconda3\\envs\\rltrader\\lib\\site-packages\\stable_baselines\\common\\tf_util.py:449: The name tf.get_collection is deprecated. Please use tf.compat.v1.get_collection instead.\n",
      "\n",
      "WARNING:tensorflow:From C:\\Users\\midgl\\anaconda3\\envs\\rltrader\\lib\\site-packages\\stable_baselines\\common\\tf_util.py:449: The name tf.GraphKeys is deprecated. Please use tf.compat.v1.GraphKeys instead.\n",
      "\n",
      "WARNING:tensorflow:From C:\\Users\\midgl\\anaconda3\\envs\\rltrader\\lib\\site-packages\\tensorflow_core\\python\\ops\\clip_ops.py:301: where (from tensorflow.python.ops.array_ops) is deprecated and will be removed in a future version.\n",
      "Instructions for updating:\n",
      "Use tf.where in 2.0, which has the same broadcast rule as np.where\n",
      "WARNING:tensorflow:From C:\\Users\\midgl\\anaconda3\\envs\\rltrader\\lib\\site-packages\\stable_baselines\\a2c\\a2c.py:184: The name tf.train.RMSPropOptimizer is deprecated. Please use tf.compat.v1.train.RMSPropOptimizer instead.\n",
      "\n",
      "WARNING:tensorflow:From C:\\Users\\midgl\\anaconda3\\envs\\rltrader\\lib\\site-packages\\tensorflow_core\\python\\training\\rmsprop.py:119: calling Ones.__init__ (from tensorflow.python.ops.init_ops) with dtype is deprecated and will be removed in a future version.\n",
      "Instructions for updating:\n",
      "Call initializer instance with the dtype argument instead of passing it to the constructor\n",
      "WARNING:tensorflow:From C:\\Users\\midgl\\anaconda3\\envs\\rltrader\\lib\\site-packages\\stable_baselines\\a2c\\a2c.py:194: The name tf.global_variables_initializer is deprecated. Please use tf.compat.v1.global_variables_initializer instead.\n",
      "\n",
      "WARNING:tensorflow:From C:\\Users\\midgl\\anaconda3\\envs\\rltrader\\lib\\site-packages\\stable_baselines\\a2c\\a2c.py:196: The name tf.summary.merge_all is deprecated. Please use tf.compat.v1.summary.merge_all instead.\n",
      "\n",
      "---------------------------------\n",
      "| explained_variance | -145     |\n",
      "| fps                | 28       |\n",
      "| nupdates           | 1        |\n",
      "| policy_entropy     | 0.693    |\n",
      "| total_timesteps    | 5        |\n",
      "| value_loss         | 0.000593 |\n",
      "---------------------------------\n",
      "---------------------------------\n",
      "| explained_variance | 0.162    |\n",
      "| fps                | 1063     |\n",
      "| nupdates           | 2500     |\n",
      "| policy_entropy     | 0.147    |\n",
      "| total_timesteps    | 12500    |\n",
      "| value_loss         | 9.45e-06 |\n",
      "---------------------------------\n",
      "---------------------------------\n",
      "| explained_variance | 0.711    |\n",
      "| fps                | 1066     |\n",
      "| nupdates           | 5000     |\n",
      "| policy_entropy     | 0.625    |\n",
      "| total_timesteps    | 25000    |\n",
      "| value_loss         | 0.000262 |\n",
      "---------------------------------\n",
      "---------------------------------\n",
      "| explained_variance | 0.000202 |\n",
      "| fps                | 1067     |\n",
      "| nupdates           | 7500     |\n",
      "| policy_entropy     | 0.677    |\n",
      "| total_timesteps    | 37500    |\n",
      "| value_loss         | 1.55e+03 |\n",
      "---------------------------------\n",
      "---------------------------------\n",
      "| explained_variance | -135     |\n",
      "| fps                | 1067     |\n",
      "| nupdates           | 10000    |\n",
      "| policy_entropy     | 0.589    |\n",
      "| total_timesteps    | 50000    |\n",
      "| value_loss         | 0.354    |\n",
      "---------------------------------\n"
     ]
    },
    {
     "data": {
      "text/plain": [
       "<stable_baselines.a2c.a2c.A2C at 0x200d390cdc8>"
      ]
     },
     "execution_count": 14,
     "metadata": {},
     "output_type": "execute_result"
    }
   ],
   "source": [
    "model = A2C('MlpLstmPolicy', env, verbose=1)\n",
    "model.learn(total_timesteps=50000, log_interval=2500)"
   ]
  },
  {
   "cell_type": "markdown",
   "id": "f80bbe61",
   "metadata": {},
   "source": [
    "Ideally with a succesful train we are looking for the `explained_variance` to increase and approach one at the end of training as this shows the model is beginning to recognise patterns. Unfortunately this does not happen for this model. Nevertheless we will test it over the 20 days following the inital training range to see how it performs."
   ]
  },
  {
   "cell_type": "code",
   "execution_count": 15,
   "id": "029f0748",
   "metadata": {},
   "outputs": [
    {
     "name": "stdout",
     "output_type": "stream",
     "text": [
      "info {'total_reward': 77.14000000000078, 'total_profit': 0.9474611778469194, 'position': 0}\n"
     ]
    }
   ],
   "source": [
    "env = gym.make('stocks-v0', df=df, frame_bound=(150,175), window_size=5)\n",
    "obs = env.reset()\n",
    "while True:\n",
    "    obs = obs[np.newaxis,...]\n",
    "    action, _states = model.predict(obs)\n",
    "    obs, rewards, done, info = env.step(action)\n",
    "    if done:\n",
    "        print(\"info\", info)\n",
    "        break"
   ]
  },
  {
   "cell_type": "code",
   "execution_count": 16,
   "id": "fa9acb84",
   "metadata": {},
   "outputs": [
    {
     "data": {
      "image/png": "[encoded data removed]",
      "text/plain": [
       "<Figure size 1080x432 with 1 Axes>"
      ]
     },
     "metadata": {
      "needs_background": "light"
     },
     "output_type": "display_data"
    }
   ],
   "source": [
    "plt.figure(figsize=(15,6))\n",
    "plt.cla()\n",
    "env.render_all()\n",
    "plt.show()"
   ]
  },
  {
   "cell_type": "markdown",
   "id": "85948614",
   "metadata": {},
   "source": [
    "Despite the initial concerns regarding the models low `explained_variance` it performs okay. It does report a 5% loss over 20 days but given the simplicity of the model I would say this is good. The next step is to add custom indicators into the model to try and improve its performance.\n",
    "\n",
    "\n",
    "# Reinforcement Learning Trading Bot with Custom Indicators \n",
    "To add indicators to the model we will need additional modules. StocksEnv will allow us to include indicators in the model. Finta is a financial technical analysis module and will calculate the indicators for us.\n",
    "## Import further dependencies"
   ]
  },
  {
   "cell_type": "code",
   "execution_count": 17,
   "id": "7d4118b9",
   "metadata": {},
   "outputs": [],
   "source": [
    "from gym_anytrading.envs import StocksEnv\n",
    "from finta import TA"
   ]
  },
  {
   "cell_type": "markdown",
   "id": "f176644a",
   "metadata": {},
   "source": [
    "## Calculate Custom Indicators\n",
    "The indicators that we will include in the model are:\n",
    "- Simple Moving Average\n",
    "- Relative Strength Index\n",
    "- On Balance Volume"
   ]
  },
  {
   "cell_type": "code",
   "execution_count": 18,
   "id": "cc586488",
   "metadata": {},
   "outputs": [],
   "source": [
    "df['SMA'] = TA.SMA(df, 12)\n",
    "df['RSI'] = TA.RSI(df)\n",
    "df['OBV'] = TA.OBV(df)"
   ]
  },
  {
   "cell_type": "code",
   "execution_count": 19,
   "id": "9960b024",
   "metadata": {},
   "outputs": [
    {
     "data": {
      "text/html": [
       "<div>\n",
       "<style scoped>\n",
       "    .dataframe tbody tr th:only-of-type {\n",
       "        vertical-align: middle;\n",
       "    }\n",
       "\n",
       "    .dataframe tbody tr th {\n",
       "        vertical-align: top;\n",
       "    }\n",
       "\n",
       "    .dataframe thead th {\n",
       "        text-align: right;\n",
       "    }\n",
       "</style>\n",
       "<table border=\"1\" class=\"dataframe\">\n",
       "  <thead>\n",
       "    <tr style=\"text-align: right;\">\n",
       "      <th></th>\n",
       "      <th>Open</th>\n",
       "      <th>High</th>\n",
       "      <th>Low</th>\n",
       "      <th>Close</th>\n",
       "      <th>Volume</th>\n",
       "      <th>SMA</th>\n",
       "      <th>RSI</th>\n",
       "      <th>OBV</th>\n",
       "    </tr>\n",
       "    <tr>\n",
       "      <th>Date</th>\n",
       "      <th></th>\n",
       "      <th></th>\n",
       "      <th></th>\n",
       "      <th></th>\n",
       "      <th></th>\n",
       "      <th></th>\n",
       "      <th></th>\n",
       "      <th></th>\n",
       "    </tr>\n",
       "  </thead>\n",
       "  <tbody>\n",
       "    <tr>\n",
       "      <th>2020-11-17</th>\n",
       "      <td>3183.55</td>\n",
       "      <td>3189.25</td>\n",
       "      <td>3135.26</td>\n",
       "      <td>3135.66</td>\n",
       "      <td>3444735.0</td>\n",
       "      <td>NaN</td>\n",
       "      <td>NaN</td>\n",
       "      <td>NaN</td>\n",
       "    </tr>\n",
       "    <tr>\n",
       "      <th>2020-11-18</th>\n",
       "      <td>3134.00</td>\n",
       "      <td>3140.00</td>\n",
       "      <td>3105.10</td>\n",
       "      <td>3105.46</td>\n",
       "      <td>2916836.0</td>\n",
       "      <td>NaN</td>\n",
       "      <td>0.000000</td>\n",
       "      <td>-2916836.0</td>\n",
       "    </tr>\n",
       "    <tr>\n",
       "      <th>2020-11-19</th>\n",
       "      <td>3105.31</td>\n",
       "      <td>3125.00</td>\n",
       "      <td>3080.92</td>\n",
       "      <td>3117.02</td>\n",
       "      <td>3010270.0</td>\n",
       "      <td>NaN</td>\n",
       "      <td>29.189813</td>\n",
       "      <td>93434.0</td>\n",
       "    </tr>\n",
       "    <tr>\n",
       "      <th>2020-11-20</th>\n",
       "      <td>3117.02</td>\n",
       "      <td>3132.89</td>\n",
       "      <td>3098.05</td>\n",
       "      <td>3099.40</td>\n",
       "      <td>3380138.0</td>\n",
       "      <td>NaN</td>\n",
       "      <td>19.734290</td>\n",
       "      <td>-3286704.0</td>\n",
       "    </tr>\n",
       "    <tr>\n",
       "      <th>2020-11-23</th>\n",
       "      <td>3116.70</td>\n",
       "      <td>3139.75</td>\n",
       "      <td>3065.46</td>\n",
       "      <td>3098.39</td>\n",
       "      <td>4708887.0</td>\n",
       "      <td>NaN</td>\n",
       "      <td>19.347409</td>\n",
       "      <td>-7995591.0</td>\n",
       "    </tr>\n",
       "  </tbody>\n",
       "</table>\n",
       "</div>"
      ],
      "text/plain": [
       "               Open     High      Low    Close     Volume  SMA        RSI  \\\n",
       "Date                                                                        \n",
       "2020-11-17  3183.55  3189.25  3135.26  3135.66  3444735.0  NaN        NaN   \n",
       "2020-11-18  3134.00  3140.00  3105.10  3105.46  2916836.0  NaN   0.000000   \n",
       "2020-11-19  3105.31  3125.00  3080.92  3117.02  3010270.0  NaN  29.189813   \n",
       "2020-11-20  3117.02  3132.89  3098.05  3099.40  3380138.0  NaN  19.734290   \n",
       "2020-11-23  3116.70  3139.75  3065.46  3098.39  4708887.0  NaN  19.347409   \n",
       "\n",
       "                  OBV  \n",
       "Date                   \n",
       "2020-11-17        NaN  \n",
       "2020-11-18 -2916836.0  \n",
       "2020-11-19    93434.0  \n",
       "2020-11-20 -3286704.0  \n",
       "2020-11-23 -7995591.0  "
      ]
     },
     "execution_count": 19,
     "metadata": {},
     "output_type": "execute_result"
    }
   ],
   "source": [
    "df.head()"
   ]
  },
  {
   "cell_type": "markdown",
   "id": "7c7c183a",
   "metadata": {},
   "source": [
    "There are some NaN values now present so these need to replaced with 0"
   ]
  },
  {
   "cell_type": "code",
   "execution_count": 20,
   "id": "98f7c341",
   "metadata": {},
   "outputs": [
    {
     "data": {
      "text/html": [
       "<div>\n",
       "<style scoped>\n",
       "    .dataframe tbody tr th:only-of-type {\n",
       "        vertical-align: middle;\n",
       "    }\n",
       "\n",
       "    .dataframe tbody tr th {\n",
       "        vertical-align: top;\n",
       "    }\n",
       "\n",
       "    .dataframe thead th {\n",
       "        text-align: right;\n",
       "    }\n",
       "</style>\n",
       "<table border=\"1\" class=\"dataframe\">\n",
       "  <thead>\n",
       "    <tr style=\"text-align: right;\">\n",
       "      <th></th>\n",
       "      <th>Open</th>\n",
       "      <th>High</th>\n",
       "      <th>Low</th>\n",
       "      <th>Close</th>\n",
       "      <th>Volume</th>\n",
       "      <th>SMA</th>\n",
       "      <th>RSI</th>\n",
       "      <th>OBV</th>\n",
       "    </tr>\n",
       "    <tr>\n",
       "      <th>Date</th>\n",
       "      <th></th>\n",
       "      <th></th>\n",
       "      <th></th>\n",
       "      <th></th>\n",
       "      <th></th>\n",
       "      <th></th>\n",
       "      <th></th>\n",
       "      <th></th>\n",
       "    </tr>\n",
       "  </thead>\n",
       "  <tbody>\n",
       "    <tr>\n",
       "      <th>2020-11-17</th>\n",
       "      <td>3183.55</td>\n",
       "      <td>3189.25</td>\n",
       "      <td>3135.26</td>\n",
       "      <td>3135.66</td>\n",
       "      <td>3444735.0</td>\n",
       "      <td>0.0</td>\n",
       "      <td>0.000000</td>\n",
       "      <td>0.0</td>\n",
       "    </tr>\n",
       "    <tr>\n",
       "      <th>2020-11-18</th>\n",
       "      <td>3134.00</td>\n",
       "      <td>3140.00</td>\n",
       "      <td>3105.10</td>\n",
       "      <td>3105.46</td>\n",
       "      <td>2916836.0</td>\n",
       "      <td>0.0</td>\n",
       "      <td>0.000000</td>\n",
       "      <td>-2916836.0</td>\n",
       "    </tr>\n",
       "    <tr>\n",
       "      <th>2020-11-19</th>\n",
       "      <td>3105.31</td>\n",
       "      <td>3125.00</td>\n",
       "      <td>3080.92</td>\n",
       "      <td>3117.02</td>\n",
       "      <td>3010270.0</td>\n",
       "      <td>0.0</td>\n",
       "      <td>29.189813</td>\n",
       "      <td>93434.0</td>\n",
       "    </tr>\n",
       "    <tr>\n",
       "      <th>2020-11-20</th>\n",
       "      <td>3117.02</td>\n",
       "      <td>3132.89</td>\n",
       "      <td>3098.05</td>\n",
       "      <td>3099.40</td>\n",
       "      <td>3380138.0</td>\n",
       "      <td>0.0</td>\n",
       "      <td>19.734290</td>\n",
       "      <td>-3286704.0</td>\n",
       "    </tr>\n",
       "    <tr>\n",
       "      <th>2020-11-23</th>\n",
       "      <td>3116.70</td>\n",
       "      <td>3139.75</td>\n",
       "      <td>3065.46</td>\n",
       "      <td>3098.39</td>\n",
       "      <td>4708887.0</td>\n",
       "      <td>0.0</td>\n",
       "      <td>19.347409</td>\n",
       "      <td>-7995591.0</td>\n",
       "    </tr>\n",
       "  </tbody>\n",
       "</table>\n",
       "</div>"
      ],
      "text/plain": [
       "               Open     High      Low    Close     Volume  SMA        RSI  \\\n",
       "Date                                                                        \n",
       "2020-11-17  3183.55  3189.25  3135.26  3135.66  3444735.0  0.0   0.000000   \n",
       "2020-11-18  3134.00  3140.00  3105.10  3105.46  2916836.0  0.0   0.000000   \n",
       "2020-11-19  3105.31  3125.00  3080.92  3117.02  3010270.0  0.0  29.189813   \n",
       "2020-11-20  3117.02  3132.89  3098.05  3099.40  3380138.0  0.0  19.734290   \n",
       "2020-11-23  3116.70  3139.75  3065.46  3098.39  4708887.0  0.0  19.347409   \n",
       "\n",
       "                  OBV  \n",
       "Date                   \n",
       "2020-11-17        0.0  \n",
       "2020-11-18 -2916836.0  \n",
       "2020-11-19    93434.0  \n",
       "2020-11-20 -3286704.0  \n",
       "2020-11-23 -7995591.0  "
      ]
     },
     "execution_count": 20,
     "metadata": {},
     "output_type": "execute_result"
    }
   ],
   "source": [
    "df.fillna(0, inplace=True)\n",
    "df.head()"
   ]
  },
  {
   "cell_type": "markdown",
   "id": "f18d69a7",
   "metadata": {},
   "source": [
    "## Adding Signals to the Gym Environment\n",
    "Now we add the indicators to the reinforcement learning model and set up the gym environment over the same days as the previous model"
   ]
  },
  {
   "cell_type": "code",
   "execution_count": 21,
   "id": "7b6ab26c",
   "metadata": {},
   "outputs": [],
   "source": [
    "def add_signals(env):\n",
    "    start = env.frame_bound[0] - env.window_size\n",
    "    end = env.frame_bound[1]\n",
    "    prices = env.df.loc[:,'Low'].to_numpy()[start:end]\n",
    "    signal_features = env.df.loc[:, ['Low', 'Volume', 'SMA', 'RSI', 'OBV']].to_numpy()[start:end]\n",
    "    return prices, signal_features"
   ]
  },
  {
   "cell_type": "code",
   "execution_count": 22,
   "id": "fa603f53",
   "metadata": {},
   "outputs": [],
   "source": [
    "class MyCustomEnv(StocksEnv):\n",
    "    _process_data = add_signals\n",
    "    \n",
    "env2 = MyCustomEnv(df=df, window_size=12, frame_bound=(50,150))"
   ]
  },
  {
   "cell_type": "code",
   "execution_count": 23,
   "id": "15641bf8",
   "metadata": {},
   "outputs": [],
   "source": [
    "env_maker = lambda: env2\n",
    "env = DummyVecEnv([env_maker])"
   ]
  },
  {
   "cell_type": "markdown",
   "id": "18ec8833",
   "metadata": {},
   "source": [
    "## Training the New Model\n",
    "After some testing it became apparent that the RL model including indicators required longer to train as this improved results. A longer training time for the basic model resulted in worse performance."
   ]
  },
  {
   "cell_type": "code",
   "execution_count": 24,
   "id": "0a4019f3",
   "metadata": {},
   "outputs": [
    {
     "name": "stdout",
     "output_type": "stream",
     "text": [
      "---------------------------------\n",
      "| explained_variance | -276     |\n",
      "| fps                | 31       |\n",
      "| nupdates           | 1        |\n",
      "| policy_entropy     | 0.691    |\n",
      "| total_timesteps    | 5        |\n",
      "| value_loss         | 0.000152 |\n",
      "---------------------------------\n",
      "---------------------------------\n",
      "| explained_variance | -68.7    |\n",
      "| fps                | 1065     |\n",
      "| nupdates           | 10000    |\n",
      "| policy_entropy     | 0.164    |\n",
      "| total_timesteps    | 50000    |\n",
      "| value_loss         | 881      |\n",
      "---------------------------------\n",
      "---------------------------------\n",
      "| explained_variance | 0.388    |\n",
      "| fps                | 1061     |\n",
      "| nupdates           | 20000    |\n",
      "| policy_entropy     | 0.295    |\n",
      "| total_timesteps    | 100000   |\n",
      "| value_loss         | 1.98e+03 |\n",
      "---------------------------------\n",
      "---------------------------------\n",
      "| explained_variance | 0.856    |\n",
      "| fps                | 1066     |\n",
      "| nupdates           | 30000    |\n",
      "| policy_entropy     | 0.00192  |\n",
      "| total_timesteps    | 150000   |\n",
      "| value_loss         | 0.206    |\n",
      "---------------------------------\n",
      "---------------------------------\n",
      "| explained_variance | 0.873    |\n",
      "| fps                | 1039     |\n",
      "| nupdates           | 40000    |\n",
      "| policy_entropy     | 0.000487 |\n",
      "| total_timesteps    | 200000   |\n",
      "| value_loss         | 0.199    |\n",
      "---------------------------------\n",
      "---------------------------------\n",
      "| explained_variance | 0.94     |\n",
      "| fps                | 985      |\n",
      "| nupdates           | 50000    |\n",
      "| policy_entropy     | 1.69e-05 |\n",
      "| total_timesteps    | 250000   |\n",
      "| value_loss         | 0.158    |\n",
      "---------------------------------\n",
      "---------------------------------\n",
      "| explained_variance | 0.985    |\n",
      "| fps                | 991      |\n",
      "| nupdates           | 60000    |\n",
      "| policy_entropy     | 0.00243  |\n",
      "| total_timesteps    | 300000   |\n",
      "| value_loss         | 0.0689   |\n",
      "---------------------------------\n",
      "---------------------------------\n",
      "| explained_variance | 0.998    |\n",
      "| fps                | 988      |\n",
      "| nupdates           | 70000    |\n",
      "| policy_entropy     | 0.00141  |\n",
      "| total_timesteps    | 350000   |\n",
      "| value_loss         | 0.0686   |\n",
      "---------------------------------\n",
      "---------------------------------\n",
      "| explained_variance | 0.99     |\n",
      "| fps                | 987      |\n",
      "| nupdates           | 80000    |\n",
      "| policy_entropy     | 0.00462  |\n",
      "| total_timesteps    | 400000   |\n",
      "| value_loss         | 0.527    |\n",
      "---------------------------------\n",
      "---------------------------------\n",
      "| explained_variance | 0.99     |\n",
      "| fps                | 992      |\n",
      "| nupdates           | 90000    |\n",
      "| policy_entropy     | 0.000344 |\n",
      "| total_timesteps    | 450000   |\n",
      "| value_loss         | 0.373    |\n",
      "---------------------------------\n",
      "---------------------------------\n",
      "| explained_variance | 0.994    |\n",
      "| fps                | 998      |\n",
      "| nupdates           | 100000   |\n",
      "| policy_entropy     | 0.000346 |\n",
      "| total_timesteps    | 500000   |\n",
      "| value_loss         | 0.0776   |\n",
      "---------------------------------\n"
     ]
    },
    {
     "data": {
      "text/plain": [
       "<stable_baselines.a2c.a2c.A2C at 0x200d704bfc8>"
      ]
     },
     "execution_count": 24,
     "metadata": {},
     "output_type": "execute_result"
    }
   ],
   "source": [
    "model = A2C('MlpLstmPolicy', env, verbose=1)\n",
    "model.learn(total_timesteps=500000, log_interval=10000)"
   ]
  },
  {
   "cell_type": "markdown",
   "id": "285d5ae2",
   "metadata": {},
   "source": [
    "## Evaluating the New Model\n",
    "Looking at the `explained_variance` its clear that this model performs better as it actually approaches 1 and stays there. Let us now check the performance of the model to see how well it does on the same test data as before."
   ]
  },
  {
   "cell_type": "code",
   "execution_count": 25,
   "id": "b4600b6d",
   "metadata": {},
   "outputs": [
    {
     "name": "stdout",
     "output_type": "stream",
     "text": [
      "info {'total_reward': 217.3100000000004, 'total_profit': 1.0323987745850138, 'position': 0}\n"
     ]
    }
   ],
   "source": [
    "env = MyCustomEnv(df=df, frame_bound=(150,175), window_size=12)\n",
    "obs = env.reset()\n",
    "while True:\n",
    "    obs = obs[np.newaxis,...]\n",
    "    action, _states = model.predict(obs)\n",
    "    obs, rewards, done, info = env.step(action)\n",
    "    if done:\n",
    "        print(\"info\", info)\n",
    "        break"
   ]
  },
  {
   "cell_type": "code",
   "execution_count": 26,
   "id": "21a787ac",
   "metadata": {},
   "outputs": [
    {
     "data": {
      "image/png": "[encoded data removed]",
      "text/plain": [
       "<Figure size 1080x432 with 1 Axes>"
      ]
     },
     "metadata": {
      "needs_background": "light"
     },
     "output_type": "display_data"
    }
   ],
   "source": [
    "plt.figure(figsize=(15,6))\n",
    "plt.cla()\n",
    "env.render_all()\n",
    "plt.show()"
   ]
  },
  {
   "cell_type": "markdown",
   "id": "85d8dc5e",
   "metadata": {},
   "source": [
    "Now we finally get a profit of 3% over 20 days. Not bad for a simple RL bot trained in a couple of minutes.\n",
    "\n",
    "## Final Thoughts\n",
    "We began this notebook by setting up a random trading bot, this did not perform well and would have lost someone a significant amount of money. We then used reinforcement learning to create a trading bot. This performed a lot better only losing us 4% (although this was over a smaller time period). The next step was including custom indicators into the model. This performed even better resulting in a profit of ??%. This is still a long way off being implemented in a real setting but for some improvements I will work on include:\n",
    "\n",
    "- Using stable_baselines3 which uses PyTorch and does not use an old version of TensorFlow\n",
    "- Trying different reinforcement learning algorithms to see if it's affect on performance\n",
    "- Trying different indicators to see affect on performance\n",
    "- Trying differnt frequency of stock updates (hourly, minute by minute)\n",
    "- Including more information regarding indicators and reasons for choosing them\n",
    "\n",
    "Following this I will then test the final model using a practice trading account to see its performance.\n",
    "\n",
    "If you got this far thank you for reading through :) If you have any suggestions please say as I am still learning."
   ]
  }
 ],
 "metadata": {
  "kernelspec": {
   "display_name": "rltrader",
   "language": "python",
   "name": "rltrader"
  },
  "language_info": {
   "codemirror_mode": {
    "name": "ipython",
    "version": 3
   },
   "file_extension": ".py",
   "mimetype": "text/x-python",
   "name": "python",
   "nbconvert_exporter": "python",
   "pygments_lexer": "ipython3",
   "version": "3.7.11"
  }
 },
 "nbformat": 4,
 "nbformat_minor": 5
}
